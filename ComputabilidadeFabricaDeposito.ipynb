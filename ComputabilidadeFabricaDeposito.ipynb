{
  "nbformat": 4,
  "nbformat_minor": 0,
  "metadata": {
    "colab": {
      "provenance": [],
      "authorship_tag": "ABX9TyNuyqc4Qw+tz0tiDXQ95MsJ",
      "include_colab_link": true
    },
    "kernelspec": {
      "name": "python3",
      "display_name": "Python 3"
    },
    "language_info": {
      "name": "python"
    }
  },
  "cells": [
    {
      "cell_type": "markdown",
      "metadata": {
        "id": "view-in-github",
        "colab_type": "text"
      },
      "source": [
        "<a href=\"https://colab.research.google.com/github/ZathanZ61/EstruturasDeDados1Teste/blob/main/ComputabilidadeFabricaDeposito.ipynb\" target=\"_parent\"><img src=\"https://colab.research.google.com/assets/colab-badge.svg\" alt=\"Open In Colab\"/></a>"
      ]
    },
    {
      "cell_type": "code",
      "execution_count": null,
      "metadata": {
        "id": "ReUvKl41BupS"
      },
      "outputs": [],
      "source": [
        "# pip install pulp\n",
        "from pulp import *\n",
        "\n",
        "# 1. Criação do Modelo\n",
        "# O problema é de MINIMIZAÇÃO (custo).\n",
        "modelo = LpProblem(\"Problema_de_Transporte_Logistico\", LpMinimize)\n",
        "\n",
        "# 2. Dados do Problema\n",
        "FABRICAS = [1, 2, 3]\n",
        "DEPOSITOS = [1, 2, 3]\n",
        "\n",
        "# Custo de Transporte por tonelada (R$/t): Custo[Fabrica][Deposito]\n",
        "# As rotas sem custo no diagrama são consideradas inexistentes (Infinito para o solver)\n",
        "custos = {\n",
        "    1: {1: 4.00, 2: 2.00, 3: 6.00},\n",
        "    2: {1: 8.00, 2: 2.00, 3: 4.00},\n",
        "    3: {1: 4.00, 2: 4.00, 3: 4.00}\n",
        "}\n",
        "\n",
        "# Produção Mensal (Oferta)\n",
        "producao = {1: 2000, 2: 2000, 3: 2000}\n",
        "\n",
        "# Capacidade Mensal (Demanda Máxima)\n",
        "capacidade = {1: 3000, 2: 3000, 3: 1500}\n",
        "\n",
        "\n",
        "# 3. Variáveis de Decisão (Xij)\n",
        "# X_ij é a quantidade de toneladas transportadas da Fábrica i para o Depósito j.\n",
        "rotas = [(i, j) for i in FABRICAS for j in DEPOSITOS]\n",
        "\n",
        "X = LpVariable.dicts(\"X\", rotas, 0) # Variáveis X_ij com limite inferior 0\n",
        "\n",
        "\n",
        "# 4. FUNÇÃO OBJETIVO (Minimizar Custo Total)\n",
        "# Z = Custo[i][j] * X_ij\n",
        "modelo += lpSum([custos[i][j] * X[(i, j)] for (i, j) in rotas]), \"Custo_Total\"\n",
        "\n",
        "\n",
        "# 5. RESTRIÇÕES\n",
        "\n",
        "# A) Restrições de OFERTA (Toda a produção DEVE sair da Fábrica)\n",
        "for i in FABRICAS:\n",
        "    # A soma de todas as rotas saindo de uma fábrica i deve ser IGUAL à sua produção.\n",
        "    modelo += lpSum([X[(i, j)] for j in DEPOSITOS]) == producao[i], f\"Oferta_Fabrica_{i}\"\n",
        "\n",
        "# B) Restrições de DEMANDA (O que chega no Depósito NÃO PODE exceder a capacidade)\n",
        "for j in DEPOSITOS:\n",
        "    # A soma de todas as rotas chegando ao depósito j deve ser MENOR OU IGUAL à sua capacidade.\n",
        "    modelo += lpSum([X[(i, j)] for i in FABRICAS]) <= capacidade[j], f\"Demanda_Deposito_{j}\"\n",
        "\n",
        "\n",
        "# 6. RESOLUÇÃO DO MODELO\n",
        "modelo.solve()\n",
        "\n",
        "# Verifica se a solução foi encontrada\n",
        "if LpStatus[modelo.status] == \"Optimal\":\n",
        "    print(\"--- SOLUÇÃO ÓTIMA ENCONTRADA ---\")\n",
        "\n",
        "    # 7. EXIBIÇÃO DOS RESULTADOS\n",
        "    print(f\"\\nCusto Mínimo Total de Transporte: R$ {value(modelo.objective):.2f}\\n\")\n",
        "    print(\"DISTRIBUIÇÃO ÓTIMA (Toneladas Transportadas):\")\n",
        "\n",
        "    for i in FABRICAS:\n",
        "        for j in DEPOSITOS:\n",
        "            if X[(i, j)].varValue > 0:\n",
        "                print(f\"Fábrica {i} -> Depósito {j}: {X[(i, j)].varValue:.0f} t\")\n",
        "\n",
        "    print(\"\\nVERIFICAÇÃO DE CAPACIDADE DOS DEPÓSITOS:\")\n",
        "    for j in DEPOSITOS:\n",
        "        chegando = lpSum([X[(i, j)].varValue for i in FABRICAS])\n",
        "        print(f\"Depósito {j}: Chegou {value(chegando):.0f} t / Capacidade {capacidade[j]:.0f} t\")\n",
        "\n",
        "else:\n",
        "    print(f\"O problema não encontrou uma solução ótima. Status: {LpStatus[modelo.status]}\")"
      ]
    }
  ]
}