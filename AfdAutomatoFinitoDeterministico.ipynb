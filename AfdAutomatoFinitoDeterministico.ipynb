{
  "nbformat": 4,
  "nbformat_minor": 0,
  "metadata": {
    "colab": {
      "provenance": [],
      "authorship_tag": "ABX9TyPkO0D2GBy5CY5E/R030S87",
      "include_colab_link": true
    },
    "kernelspec": {
      "name": "python3",
      "display_name": "Python 3"
    },
    "language_info": {
      "name": "python"
    }
  },
  "cells": [
    {
      "cell_type": "markdown",
      "metadata": {
        "id": "view-in-github",
        "colab_type": "text"
      },
      "source": [
        "<a href=\"https://colab.research.google.com/github/ZathanZ61/EstruturasDeDados1Teste/blob/main/AfdAutomatoFinitoDeterministico.ipynb\" target=\"_parent\"><img src=\"https://colab.research.google.com/assets/colab-badge.svg\" alt=\"Open In Colab\"/></a>"
      ]
    },
    {
      "cell_type": "markdown",
      "source": [
        "Atividade de LFA  avaliativa _ A2"
      ],
      "metadata": {
        "id": "jlURvjUSRyYd"
      }
    },
    {
      "cell_type": "markdown",
      "source": [
        "Nomes: Nathan Ferreira dos Santos e Thayna Carneiro de Freitas"
      ],
      "metadata": {
        "id": "6gSd7a65P3Dl"
      }
    },
    {
      "cell_type": "markdown",
      "source": [
        " Este código implementa um Autômato Finito Determinístico (AFD), que reconhece cadeias formadas pelos símbolos {a, b, c} e aceita apenas aquelas que terminam com \"bbb\".\n",
        "\n",
        "O autômato possui quatro estados:\n",
        "q0 → estado inicial\n",
        "q1 → leu 1 'b' no final\n",
        "q2 → leu 2 'b's seguidos\n",
        "q3 → leu 3 'b's (estado de aceitação)\n",
        "A cada símbolo lido, o programa muda de estado conforme as regras. No fim, se parar em q3, significa que a cadeia termina em \"bbb\" e é aceita.\n",
        "\n",
        "**Exercicio 14 do PDF.**"
      ],
      "metadata": {
        "id": "FOwGNJuhyGCj"
      }
    },
    {
      "cell_type": "markdown",
      "source": [],
      "metadata": {
        "id": "6Jo7aYMQQVGU"
      }
    },
    {
      "cell_type": "code",
      "source": [
        "# Autômato que reconhece cadeias terminando em \"bbb\"\n",
        "# Alfabeto: {a, b, c}\n",
        "\n",
        "def afd_termina_bbb(cadeia): # verifica se a deia termemina em \"bbb\"\n",
        "    # Estado inicial\n",
        "    estado = \"q0\" # nenhum \"b\" ou cadeia anterior quebrada\n",
        "\n",
        "    for simbolo in cadeia:\n",
        "        if simbolo not in {\"a\", \"b\", \"c\"}: # verifica se o simblo pertence ai alfabeto\n",
        "            return f\"Símbolo inválido: {simbolo}\"\n",
        "    # logica de transição do AFD\n",
        "        if estado == \"q0\":\n",
        "            if simbolo == \"b\":\n",
        "                estado = \"q1\" # trasição após ver o primeiro \"b\"\n",
        "            else:\n",
        "                estado = \"q0\" # continua sem encontra \"b\"\n",
        "\n",
        "        elif estado == \"q1\":\n",
        "            if simbolo == \"b\":\n",
        "                estado = \"q2\" # transição após ver o segundo \"b\"\n",
        "            else:\n",
        "                estado = \"q0\" # reinicia quebra a sequencia\n",
        "\n",
        "        elif estado == \"q2\":\n",
        "            if simbolo == \"b\":\n",
        "                estado = \"q3\" # transiçãoo ao estado de aceitação\n",
        "            else:\n",
        "                estado = \"q0\" # quebra de sequencia\n",
        "\n",
        "        elif estado == \"q3\":\n",
        "            if simbolo == \"b\":\n",
        "                estado = \"q3\"  # permanece aceitando cadeia ainda termina em \"bbb\"\n",
        "            else:\n",
        "                estado = \"q0\" # quebra de cadeia\n",
        "\n",
        "    # Verificação do estado final\n",
        "    if estado == \"q3\": # unico estado de aceitação\n",
        "        return f\"Cadeia '{cadeia}' aceita (termina em 'bbb').\"\n",
        "    else:\n",
        "        return f\"Cadeia '{cadeia}' rejeitada.\"\n",
        "\n",
        "\n",
        "# Testes\n",
        "print(afd_termina_bbb(\"bbab\"))      # rejeitada\n",
        "print(afd_termina_bbb(\"abbb\"))      # aceita\n",
        "print(afd_termina_bbb(\"cbbb\"))      # aceita\n",
        "print(afd_termina_bbb(\"bb\"))        # rejeita\n",
        "print(afd_termina_bbb(\"abbc\"))      # rejeita\n",
        "print(afd_termina_bbb(\"bbbabbb\"))   # aceita\n"
      ],
      "metadata": {
        "id": "8TGFuCPNyEdw",
        "colab": {
          "base_uri": "https://localhost:8080/"
        },
        "outputId": "5b25cd4f-560e-42d7-c37b-dfc2c4e79e8d"
      },
      "execution_count": null,
      "outputs": [
        {
          "output_type": "stream",
          "name": "stdout",
          "text": [
            "Cadeia 'bbab' rejeitada.\n",
            "Cadeia 'abbb' aceita (termina em 'bbb').\n",
            "Cadeia 'cbbb' aceita (termina em 'bbb').\n",
            "Cadeia 'bb' rejeitada.\n",
            "Cadeia 'abbc' rejeitada.\n",
            "Cadeia 'bbbabbb' aceita (termina em 'bbb').\n"
          ]
        }
      ]
    }
  ]
}